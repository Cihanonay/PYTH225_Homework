{
  "nbformat": 4,
  "nbformat_minor": 0,
  "metadata": {
    "colab": {
      "name": "Copy of Homework2: conditionals_psets.ipynb",
      "provenance": [],
      "collapsed_sections": [
        "gijpYMCLV00L",
        "KL7ytXn4V2WB",
        "t9cxGL-8VtnX",
        "777sx1WCVtno",
        "c70y61m1Vtn3",
        "6IGtJU8oV5a8",
        "HLfJLQFKVtoK",
        "eUuhYKriVtoS",
        "wG8CE6QTVtoW",
        "WlgQdALoVtof",
        "zayFQdU7Vto2",
        "gtAK4fQAV9BC",
        "nO0LSd8SVto5"
      ],
      "include_colab_link": true
    },
    "kernelspec": {
      "name": "python3",
      "display_name": "Python 3"
    }
  },
  "cells": [
    {
      "cell_type": "markdown",
      "metadata": {
        "id": "view-in-github",
        "colab_type": "text"
      },
      "source": [
        "<a href=\"https://colab.research.google.com/github/Cihanonay/PYTH225_Homework/blob/master/Copy_of_Homework2_conditionals_psets.ipynb\" target=\"_parent\"><img src=\"https://colab.research.google.com/assets/colab-badge.svg\" alt=\"Open In Colab\"/></a>"
      ]
    },
    {
      "cell_type": "markdown",
      "metadata": {
        "id": "FiL9pv11VtnR",
        "colab_type": "text"
      },
      "source": [
        "#  CONDITIONALS\n",
        "\n",
        "\n"
      ]
    },
    {
      "cell_type": "markdown",
      "metadata": {
        "id": "gijpYMCLV00L",
        "colab_type": "text"
      },
      "source": [
        "## WEATHER"
      ]
    },
    {
      "cell_type": "markdown",
      "metadata": {
        "id": "KL7ytXn4V2WB",
        "colab_type": "text"
      },
      "source": [
        "### P1.PY"
      ]
    },
    {
      "cell_type": "code",
      "metadata": {
        "id": "e32ChHBAVtnU",
        "colab_type": "code",
        "colab": {}
      },
      "source": [
        "\"\"\"\n",
        "Weather I - Do you need boots?\n",
        "\"\"\"\n",
        "\n",
        "# Use the values of the vars defined below to ouput the correct contextual answer to the questions below. (Note: The variables themselves ARE the questions.)\n",
        "\n",
        "# Example:\n",
        "## am_i_hungry = False\n",
        "## am_i_tired = True\n",
        "## do_i_need_to_stay_awake = False\n",
        "\n",
        "## should_i_drink_coffee_now = am_i_tired and do_i_need_to_stay_awake\n",
        "\n",
        "## ^^ This ^^ evaluates to False. If you're tired and don't need to stay awake, you don't need to drink coffee!\n",
        "\n",
        "\n",
        "is_it_raining = True\n",
        "is_it_snowing = False\n",
        "\n",
        "\n",
        "do_i_need_snow_boots = None\n",
        "can_i_skip_snow_boots = None\n",
        "do_i_need_rain_boots = None\n",
        "can_i_skip_rain_boots = None"
      ],
      "execution_count": 0,
      "outputs": []
    },
    {
      "cell_type": "markdown",
      "metadata": {
        "id": "t9cxGL-8VtnX",
        "colab_type": "text"
      },
      "source": [
        "\n",
        "\n",
        "### P2.PY\n",
        "\n",
        "\n"
      ]
    },
    {
      "cell_type": "code",
      "metadata": {
        "id": "y80DTzliVtnY",
        "colab_type": "code",
        "colab": {}
      },
      "source": [
        "\"\"\"\n",
        "Weather II - Precipitation\n",
        "\"\"\"\n",
        "\n",
        "# Repeat the same process as p1, using this new set of variables.\n",
        "\n",
        "sunny = True\n",
        "raining = True\n",
        "snowing = False\n",
        "\n",
        "is_it_sunny = None\n",
        "is_there_precipitation = None\n",
        "is_it_sleeting = None\n",
        "is_there_rainbow = None"
      ],
      "execution_count": 0,
      "outputs": []
    },
    {
      "cell_type": "markdown",
      "metadata": {
        "id": "777sx1WCVtno",
        "colab_type": "text"
      },
      "source": [
        "\n",
        "\n",
        "### P3.PY\n",
        "\n",
        "\n"
      ]
    },
    {
      "cell_type": "code",
      "metadata": {
        "id": "9dNGqX2wVtnp",
        "colab_type": "code",
        "colab": {}
      },
      "source": [
        "\"\"\"\n",
        "Weather III - Describe Conditions\n",
        "\"\"\"\n",
        "\n",
        "# Repeat the same process as p1, using this new set of variables.\n",
        "\n",
        "\n",
        "is_it_warm = True\n",
        "is_it_humid = True\n",
        "is_it_cold = False\n",
        "is_it_icy = False\n",
        "is_it_foggy = False\n",
        "is_it_windy = False\n",
        "is_it_overcast = True\n",
        "\n",
        "\n",
        "is_it_summer_weather = None\n",
        "is_rain_coming = None\n",
        "is_it_muggy = None\n",
        "do_i_need_coat = None\n",
        "\n"
      ],
      "execution_count": 0,
      "outputs": []
    },
    {
      "cell_type": "markdown",
      "metadata": {
        "id": "c70y61m1Vtn3",
        "colab_type": "text"
      },
      "source": [
        "## LOGIC\n",
        "\n",
        "\n"
      ]
    },
    {
      "cell_type": "markdown",
      "metadata": {
        "id": "6IGtJU8oV5a8",
        "colab_type": "text"
      },
      "source": [
        "### P1.PY"
      ]
    },
    {
      "cell_type": "code",
      "metadata": {
        "id": "8dx3WRHBVtn4",
        "colab_type": "code",
        "colab": {}
      },
      "source": [
        "\"\"\"\n",
        "Calculate Grade -- HELLO CLASS\n",
        "\"\"\"\n",
        "\n",
        "# write a program that will print the \"letter\"\n",
        "# equivalent of the grade, for example:\n",
        "# when grade = 90 # -> expect A\n",
        "# when grade = 80 # -> expect B\n",
        "# when grade = 70 # -> expect C\n",
        "# when grade = 60 # -> expect D\n",
        "# when grade = 54 # -> expect F\n",
        "# when grade = -10 # -> expect Error\n",
        "# when grade = 10000 # -> expect Error\n",
        "# when grade = \"lol skool sucks\" # -> expect Error\n"
      ],
      "execution_count": 0,
      "outputs": []
    },
    {
      "cell_type": "code",
      "metadata": {
        "id": "mPeLnERznH3q",
        "colab_type": "code",
        "outputId": "4015874e-0f1b-418c-bc88-c1f07456f63f",
        "colab": {
          "base_uri": "https://localhost:8080/"
        }
      },
      "source": [
        "grade = 68  # expect this to be a number\n",
        "\n",
        "if grade >= 90 and grade <= 100:\n",
        "  print(\"A\")\n",
        "if grade >= 80 and grade < 90:\n",
        "  print(\"B\")\n",
        "if grade >= 70 and grade < 80:\n",
        "  print(\"C\")\n",
        "if grade >= 65 and grade < 70:\n",
        "  print(\"D\")\n",
        "if grade < 65:\n",
        "  print(\"F\")"
      ],
      "execution_count": 0,
      "outputs": [
        {
          "output_type": "stream",
          "text": [
            "D\n"
          ],
          "name": "stdout"
        }
      ]
    },
    {
      "cell_type": "code",
      "metadata": {
        "id": "GLCmavbLTqIF",
        "colab_type": "code",
        "colab": {}
      },
      "source": [
        "grade = 98\n",
        "\n",
        "# another way to check if grade is int:\n",
        "# isinstance(grade, int)\n",
        "\n"
      ],
      "execution_count": 0,
      "outputs": []
    },
    {
      "cell_type": "code",
      "metadata": {
        "id": "8lwUDulFngh3",
        "colab_type": "code",
        "outputId": "97eb7762-0e06-4562-8a9d-3459e57c0e9b",
        "colab": {
          "base_uri": "https://localhost:8080/"
        }
      },
      "source": [
        "grade = 98\n",
        "\n",
        "if type(grade) != int or type(grade) != float:\n",
        "  print(\"grade type is not valid\")\n",
        "elif grade < 0 or grade > 100:\n",
        "  print(\"grade is not valid, must be 0 < grade <= 100\")\n",
        "elif grade >= 90:\n",
        "  print(\"A\")\n",
        "elif grade >= 80:\n",
        "  print(\"B\")\n",
        "elif grade >= 70:\n",
        "  print(\"C\")\n",
        "elif grade >= 65:\n",
        "  print(\"D\")\n",
        "else:\n",
        "  print(\"F\")"
      ],
      "execution_count": 0,
      "outputs": [
        {
          "output_type": "stream",
          "text": [
            "grade type is not valid\n"
          ],
          "name": "stdout"
        }
      ]
    },
    {
      "cell_type": "markdown",
      "metadata": {
        "id": "HLfJLQFKVtoK",
        "colab_type": "text"
      },
      "source": [
        "\n",
        "\n",
        "### P2.PY\n",
        "\n",
        "\n"
      ]
    },
    {
      "cell_type": "code",
      "metadata": {
        "id": "g3fT3CxqVtoO",
        "colab_type": "code",
        "colab": {}
      },
      "source": [
        "\"\"\"\n",
        "Sign of Product\n",
        "\"\"\"\n",
        "\n",
        "# Given three numbers, a, b, c, without multiplying, determine the sign of their product.\n",
        "\n",
        "# EXAMPLE: a = -5, b = 6, c = -4, print 1\n",
        "\n",
        "# EXAMPLE: a = 5, b = 6, c = -4, print -1\n",
        "\n",
        "if a < 0 and b < 0 and c < 0:\n",
        "  print(True)\n",
        "elif a < 0 and b < 0 and c > 0:\n",
        "  print(False)\n",
        "elif a < 0 and b >0 and c < 0:\n",
        "  print(False)\n",
        "elif a < 0 and b > 0 and c > 0:\n",
        "  print(True)"
      ],
      "execution_count": 0,
      "outputs": []
    },
    {
      "cell_type": "code",
      "metadata": {
        "id": "SWqNd6TAnru4",
        "colab_type": "code",
        "outputId": "9bc507a6-3ea9-485c-fb8f-784fae85d886",
        "colab": {
          "base_uri": "https://localhost:8080/"
        }
      },
      "source": [
        "\n",
        "\n",
        "a = 0\n",
        "b = 0\n",
        "c = 0\n",
        "\n",
        "is_a_negative = a < 0\n",
        "is_b_negative = b < 0\n",
        "is_c_negative = c < 0\n",
        "\n",
        "summed = int(is_a_negative) + int(is_b_negative) + int(is_c_negative)\n",
        "if a == 0 or b == 0 or c == 0:\n",
        "  print(\"zero\")\n",
        "elif summed == 1 or summed == 3:\n",
        "  print(\"Negative\")\n",
        "else:\n",
        "  print(\"Positive\")\n",
        "\n",
        "print(a*b*c)"
      ],
      "execution_count": 0,
      "outputs": [
        {
          "output_type": "stream",
          "text": [
            "zero\n",
            "0\n"
          ],
          "name": "stdout"
        }
      ]
    },
    {
      "cell_type": "markdown",
      "metadata": {
        "id": "eUuhYKriVtoS",
        "colab_type": "text"
      },
      "source": [
        "\n",
        "\n",
        "### P3.PY\n",
        "\n",
        "\n"
      ]
    },
    {
      "cell_type": "code",
      "metadata": {
        "id": "gtAMAAaYVtoT",
        "colab_type": "code",
        "colab": {}
      },
      "source": [
        "\"\"\"\n",
        "Any Uppercase\n",
        "\"\"\"\n",
        "\n",
        "# Given a string str, determine if there are any uppercase values in it. Use only conditional statements and string methods (you may have to look some up!)\n",
        "\n",
        "# EXAMPLE: str = \"teSt\", print True\n",
        "\n",
        "print( str_ != str_.lower() )\n"
      ],
      "execution_count": 0,
      "outputs": []
    },
    {
      "cell_type": "code",
      "metadata": {
        "id": "BTEqbj5b0Ssx",
        "colab_type": "code",
        "outputId": "ef3c55bc-e577-466f-d395-2ccc5446ba22",
        "colab": {
          "base_uri": "https://localhost:8080/"
        }
      },
      "source": [
        "str = 'geNeral asSemblY'\n",
        "  \n",
        "print(\"Original String:\") \n",
        "print(str) \n",
        "  \n",
        "# upper() function to convert  \n",
        "# string to upper_case \n",
        "print(\"\\nConverted String:\") \n",
        "print(str.upper()) "
      ],
      "execution_count": 0,
      "outputs": [
        {
          "output_type": "stream",
          "text": [
            "Original String:\n",
            "geNeral asSemblY\n",
            "\n",
            "Converted String:\n",
            "GENERAL ASSEMBLY\n"
          ],
          "name": "stdout"
        }
      ]
    },
    {
      "cell_type": "markdown",
      "metadata": {
        "id": "wG8CE6QTVtoW",
        "colab_type": "text"
      },
      "source": [
        "\n",
        "\n",
        "### P4.PY\n",
        "\n",
        "\n"
      ]
    },
    {
      "cell_type": "code",
      "metadata": {
        "id": "xZ5Mt4jSVtoX",
        "colab_type": "code",
        "colab": {}
      },
      "source": [
        "\"\"\"\n",
        "Empty Strings\n",
        "\"\"\"\n",
        "\n",
        "# Given any empty string, of the form:\n",
        "\n",
        "# ''\n",
        "# ' '\n",
        "# '  '\n",
        "# any other num of spaces...\n",
        "\n",
        "# determine if the str is empty or not (print True or False). Hint: You'll need to look up how to remove trailing spaces from a string.\n"
      ],
      "execution_count": 0,
      "outputs": []
    },
    {
      "cell_type": "code",
      "metadata": {
        "id": "On_X-D_9tRpu",
        "colab_type": "code",
        "outputId": "d72a4e54-ffef-46b1-ead7-565a864dd7a7",
        "colab": {
          "base_uri": "https://localhost:8080/"
        }
      },
      "source": [
        "# Given any empty string, of the form:\n",
        "first_str1 = \"\" \n",
        "second_str2 = \"  \"\n",
        "  \n",
        "# checking if string is empty \n",
        "print (\"The zero string without spaces is empty ? : \", end = \"\") \n",
        "if((first_str1) == 0): \n",
        "    print (\"Yes\") \n",
        "else : \n",
        "    print (\"No\") \n",
        "  \n",
        "# prints No  \n",
        "print (\"The zero string with just spaces is empty ? : \", end = \"\") \n",
        "if((second_str2) == 0): \n",
        "    print (\"Yes\") \n",
        "else : \n",
        "    print (\"No\") "
      ],
      "execution_count": 0,
      "outputs": [
        {
          "output_type": "stream",
          "text": [
            "The zero string without spaces is empty ? : No\n",
            "The zero string with just spaces is empty ? : No\n"
          ],
          "name": "stdout"
        }
      ]
    },
    {
      "cell_type": "markdown",
      "metadata": {
        "id": "WlgQdALoVtof",
        "colab_type": "text"
      },
      "source": [
        "\n",
        "\n",
        "### P5.PY\n",
        "\n",
        "\n"
      ]
    },
    {
      "cell_type": "code",
      "metadata": {
        "id": "7_k9rebsVtog",
        "colab_type": "code",
        "outputId": "965872cf-359f-45a3-8632-0aabaa45c5f2",
        "colab": {
          "base_uri": "https://localhost:8080/"
        }
      },
      "source": [
        "\"\"\"\n",
        "truthTableEvaluator\n",
        "\"\"\"\n",
        "\n",
        "# Given the following inputs:\n",
        "\n",
        "\n",
        "# P = # True or False\n",
        "# Q = # True or False\n",
        "# op = # '^' (logical AND, conjunction)\n",
        "#      # OR, 'v' (logical OR, disjunction)\n",
        "#      # OR, '->' (logical conditional, implication)\n",
        "#      # OR, '<->' (biconditional)\n",
        "# determine the correct outcome.\n",
        "\n",
        "# https://medium.com/i-math/intro-to-truth-tables-boolean-algebra-73b331dd9b94\n",
        "\n",
        "# p | q | p ^ q | p v q | p -> q | p <-> q \n",
        "# -----------------------------------------\n",
        "# T | T |   T.  |  T.   |   T.   |.   T\n",
        "# T | T |.  F.  |. T.   |.  F.   |.   F \n",
        "# F | F |.  F.  |. T.   |   T.   |.   F\n",
        "# F | F |.  F.  |. F    |.  T.   |.   T\n",
        "\n",
        "P = input(\"T OR F? \")\n",
        "Q = input(\"T OR F? \")\n",
        "op = input(\"^ / v / -> / <-> \")\n",
        "\n",
        "if op not in [\"^\", \"V\", \"v\", \"->\", \"<->\"]:\n",
        "  raise Exception(\"Op not supported\")\n",
        "\n",
        "if P == \"T\":\n",
        "  P = True\n",
        "else:\n",
        "  P = False\n",
        "\n",
        "if Q == \"T\":\n",
        "  Q = True\n",
        "else:\n",
        "  Q = False\n",
        "\n",
        "if op == '^':\n",
        "  if P and Q:\n",
        "    print(\"T\")\n",
        "  else:\n",
        "    print(\"F\")\n",
        "elif op == \"v\" or op == \"V\":\n",
        "  if P or Q:\n",
        "    print(\"T\")\n",
        "  else:\n",
        "    print(\"F\")"
      ],
      "execution_count": 0,
      "outputs": [
        {
          "output_type": "stream",
          "text": [
            "T OR F? T\n",
            "T OR F? F\n",
            "^ / v / -> / <-> V\n",
            "T\n"
          ],
          "name": "stdout"
        }
      ]
    },
    {
      "cell_type": "markdown",
      "metadata": {
        "id": "zayFQdU7Vto2",
        "colab_type": "text"
      },
      "source": [
        "## RANDOM NUMBERS\n",
        "\n",
        "\n",
        "\n",
        "\n"
      ]
    },
    {
      "cell_type": "markdown",
      "metadata": {
        "id": "gtAK4fQAV9BC",
        "colab_type": "text"
      },
      "source": [
        "### P1.PY"
      ]
    },
    {
      "cell_type": "code",
      "metadata": {
        "id": "_dlFvP4QVto3",
        "colab_type": "code",
        "colab": {}
      },
      "source": [
        "\"\"\"\n",
        "Generate Traffic Light\n",
        "\"\"\"\n",
        "\n",
        "# import python randomint package\n",
        "\n",
        "\n",
        "# generates a random number from 1 to 3\n",
        "\n",
        "\n",
        "# if 1, print 'red'\n",
        "# if 2, print 'green',\n",
        "# if 3, print 'yellow'\n",
        "\n"
      ],
      "execution_count": 0,
      "outputs": []
    },
    {
      "cell_type": "code",
      "metadata": {
        "id": "VzjrHz24H7Cn",
        "colab_type": "code",
        "outputId": "3f196e51-3401-4412-c3d9-324daa93ac8b",
        "colab": {
          "base_uri": "https://localhost:8080/"
        }
      },
      "source": [
        "#1 = red\n",
        "#2 = green\n",
        "#3 = yellow\n",
        "\n",
        "from random import randint\n",
        "outcome = randint(1,3)\n",
        "print(outcome)\n",
        "\n",
        "if outcome == 1:\n",
        "  print('red')\n",
        "if outcome == 2:\n",
        "  print('green')\n",
        "if outcome == 3:\n",
        "  print( 'yellow')\n",
        "\n",
        "   "
      ],
      "execution_count": 0,
      "outputs": [
        {
          "output_type": "stream",
          "text": [
            "2\n",
            "green\n"
          ],
          "name": "stdout"
        }
      ]
    },
    {
      "cell_type": "markdown",
      "metadata": {
        "id": "nO0LSd8SVto5",
        "colab_type": "text"
      },
      "source": [
        "\n",
        "\n",
        "### P2.PY\n",
        "\n",
        "\n"
      ]
    },
    {
      "cell_type": "code",
      "metadata": {
        "id": "Dp5jFc2fVtpF",
        "colab_type": "code",
        "colab": {}
      },
      "source": [
        "\"\"\"\n",
        "Generate Phone Number w/Area Code\n",
        "\"\"\"\n",
        "\n",
        "# Generate a random phone number using these SPECS:\n",
        "### Should be a string in this format: 1-718-786-2825\n",
        "### Must randomly choose one of these area codes: 646, 718, 212"
      ],
      "execution_count": 0,
      "outputs": []
    },
    {
      "cell_type": "code",
      "metadata": {
        "id": "lxvGU-cuZvxh",
        "colab_type": "code",
        "outputId": "9652d20e-00a7-4bd9-b5b3-a14a25dbc93f",
        "colab": {
          "base_uri": "https://localhost:8080/",
          "height": 34
        }
      },
      "source": [
        "area_codes = [646, 718, 212]\n",
        "\n",
        "from random import randint, choice\n",
        "\n",
        "print(f'1-{choice(area_codes)}-{randint(0,9)}{randint(0,9)}{randint(0,9)}-{randint(0,9)}{randint(0,9)}{randint(0,9)}')"
      ],
      "execution_count": 0,
      "outputs": [
        {
          "output_type": "stream",
          "text": [
            "1-718-330-054\n"
          ],
          "name": "stdout"
        }
      ]
    },
    {
      "cell_type": "markdown",
      "metadata": {
        "id": "gRweE3nDVtpK",
        "colab_type": "text"
      },
      "source": [
        "## RPS\n",
        "\n",
        "\n"
      ]
    },
    {
      "cell_type": "markdown",
      "metadata": {
        "id": "IFUwrDumV_Vn",
        "colab_type": "text"
      },
      "source": [
        "### P1.PY"
      ]
    },
    {
      "cell_type": "code",
      "metadata": {
        "id": "sYTmAYzDVtpL",
        "colab_type": "code",
        "colab": {
          "base_uri": "https://localhost:8080/",
          "height": 34
        },
        "outputId": "584f7637-34bd-49b0-ad20-ed8537e4c6f1"
      },
      "source": [
        "\"\"\"\n",
        "Play RPS\n",
        "\"\"\"\n",
        "\n",
        "p1 = 'r'  # or 'p' or 's'\n",
        "p2 = 'r'  # or 'p' or 's'\n",
        "\n",
        "# Given a p1 and p2\n",
        "# print 1 if p1 has won\n",
        "# print 2 if p2 has won\n",
        "# print 0 if tie\n",
        "# print -1 if invalid input\n",
        "# expects both p1 and p2 inputs to be either\n",
        "# \"r\", \"p\", or \"s\"\n",
        "\n",
        "if len(p1) == 1 and len(p2) == 1 and (p1 in [\"r\", \"p\", \"s\"]) and (p2 in [\"r\", \"p\", \"s\"]):\n",
        "  if p1 == p2:\n",
        "    print(0)\n",
        "  elif p1 == \"r\":\n",
        "    if p2 == \"s\":\n",
        "      print(1)\n",
        "    else:\n",
        "      print(2)\n",
        "  elif p1 == \"s\":\n",
        "    if p2 == \"r\":\n",
        "      print(2)\n",
        "    else:\n",
        "      print(1)\n",
        "  else:\n",
        "    if p2 == \"r\":\n",
        "      print(1)\n",
        "    else:\n",
        "      print(2)\n",
        "else:\n",
        "  print(-1)\n",
        "  "
      ],
      "execution_count": 12,
      "outputs": [
        {
          "output_type": "stream",
          "text": [
            "0\n"
          ],
          "name": "stdout"
        }
      ]
    },
    {
      "cell_type": "markdown",
      "metadata": {
        "id": "fp77AykMVtpN",
        "colab_type": "text"
      },
      "source": [
        "\n",
        "\n",
        "### P2.PY\n",
        "\n",
        "\n"
      ]
    },
    {
      "cell_type": "code",
      "metadata": {
        "id": "mKMaxGH8VtpO",
        "colab_type": "code",
        "colab": {}
      },
      "source": [
        "\"\"\"\n",
        "Play RPS w/Computer\n",
        "\"\"\"\n",
        "\n",
        "import random\n",
        "\n",
        "p1 = None  # randomly choose 'r' or 'p' or 's'\n",
        "p2 = None  # randomly choose 'r' or 'p' or 's'\n",
        "\n",
        "# Given a p1 and p2\n",
        "# print 1 if p1 has won\n",
        "# print 2 if p2 has won\n",
        "# print 0 if tie\n",
        "# print -1 if invalid input\n",
        "# expects both p1 and p2 inputs to be either\n",
        "# \"r\", \"p\", or \"s\"\n"
      ],
      "execution_count": 0,
      "outputs": []
    },
    {
      "cell_type": "code",
      "metadata": {
        "id": "lz6lJ2WZc3D0",
        "colab_type": "code",
        "colab": {
          "base_uri": "https://localhost:8080/",
          "height": 68
        },
        "outputId": "b19f2dc1-ce60-4cbf-df04-8d4b3db3a76d"
      },
      "source": [
        "from random import choice\n",
        "\n",
        "choices = [\"r\", \"p\", \"s\"]\n",
        "p1 = choice(choices)\n",
        "print(p1)\n",
        "p2 = choice(choices)\n",
        "print(p2)\n",
        "\n",
        "if p1 == p2:\n",
        "  print(0)\n",
        "elif p1 == \"r\":\n",
        "  if p2 == \"s\":\n",
        "    print(1)\n",
        "  else:\n",
        "    print(2)\n",
        "elif p1 == \"s\":\n",
        "  if p2 == \"r\":\n",
        "    print(2)\n",
        "  else:\n",
        "    print(1)\n",
        "else:\n",
        "  if p2 == \"r\":\n",
        "    print(1)\n",
        "  else:\n",
        "    print(2)"
      ],
      "execution_count": 15,
      "outputs": [
        {
          "output_type": "stream",
          "text": [
            "s\n",
            "s\n",
            "0\n"
          ],
          "name": "stdout"
        }
      ]
    },
    {
      "cell_type": "markdown",
      "metadata": {
        "id": "INgOFvdoVtpU",
        "colab_type": "text"
      },
      "source": [
        "\n",
        "\n",
        "### P3.PY\n",
        "\n",
        "\n"
      ]
    },
    {
      "cell_type": "code",
      "metadata": {
        "id": "vhAAHjMSVtpV",
        "colab_type": "code",
        "colab": {}
      },
      "source": [
        "\"\"\"\n",
        "Play RPS w/Input\n",
        "\"\"\"\n",
        "\n",
        "p1 = input(\"Player 1 input (r, p or s): \")  # from user input\n",
        "if p1 not in [\"r\", \"p\", \"s\"]:\n",
        "  raise Exception(\"P1 input incorrect format\")\n",
        "\n",
        "p2 = input(\"Player 1 input (r, p or s): \")  # from user input\n",
        "if p2 not in [\"r\", \"p\", \"s\"]:\n",
        "  raise Exception(\"P2 input incorrect format\")\n",
        "\n",
        "print(\"formats are correct!\")\n",
        "# Given a p1 and p2\n",
        "# print 1 if p1 has won\n",
        "# print 2 if p2 has won\n",
        "# print 0 if tie\n",
        "# print -1 if invalid input\n",
        "# expects both p1 and p2 inputs to be either\n",
        "# \"r\", \"p\", or \"s\"\n"
      ],
      "execution_count": 0,
      "outputs": []
    },
    {
      "cell_type": "code",
      "metadata": {
        "id": "QqFh8Jt4dMTF",
        "colab_type": "code",
        "colab": {
          "base_uri": "https://localhost:8080/",
          "height": 102
        },
        "outputId": "591f2d36-6ca8-4232-8a21-82b0eae6dfdf"
      },
      "source": [
        "p1 = input(\"enter r, p, or s \")\n",
        "print(p1)\n",
        "p2 = input(\"enter r, p, or s \")\n",
        "print(p2)\n",
        "\n",
        "\n",
        "if len(p1) == 1 and len(p2) == 1 and (\"r\" in p1 or \"p\" in p1 or \"s\" in p1) and (\"r\" in p2 or \"p\" in p2 or \"s\" in p2):\n",
        "  if p1 == p2:\n",
        "    print(0)\n",
        "  elif p1 == \"r\":\n",
        "    if p2 == \"s\":\n",
        "      print(1)\n",
        "    else:\n",
        "      print(2)\n",
        "  elif p1 == \"s\":\n",
        "    if p2 == \"r\":\n",
        "      print(2)\n",
        "    else:\n",
        "      print(1)\n",
        "  else:\n",
        "    if p2 == \"r\":\n",
        "      print(1)\n",
        "    else:\n",
        "      print(2)\n",
        "else:\n",
        "  print(-1)\n"
      ],
      "execution_count": 17,
      "outputs": [
        {
          "output_type": "stream",
          "text": [
            "enter r, p, or s s\n",
            "s\n",
            "enter r, p, or s r\n",
            "r\n",
            "2\n"
          ],
          "name": "stdout"
        }
      ]
    },
    {
      "cell_type": "markdown",
      "metadata": {
        "id": "SUqNu57OVtpY",
        "colab_type": "text"
      },
      "source": [
        "\n",
        "\n",
        "### P4.PY\n",
        "\n",
        "\n"
      ]
    },
    {
      "cell_type": "code",
      "metadata": {
        "id": "Vmlr5AqSVtpY",
        "colab_type": "code",
        "colab": {}
      },
      "source": [
        "\"\"\"\n",
        "Play RPS against Computer\n",
        "\"\"\"\n",
        "\n",
        "p1 = None  # from user input - we still want validation from above!\n",
        "p2 = None  # randomly generated against computer\n",
        "\n",
        "# Given a p1 and p2\n",
        "# print 1 if p1 has won\n",
        "# print 2 if p2 has won\n",
        "# print 0 if tie\n",
        "# print -1 if invalid input\n",
        "# expects both p1 and p2 inputs to be either\n",
        "# \"r\", \"p\", or \"s\"\n"
      ],
      "execution_count": 0,
      "outputs": []
    },
    {
      "cell_type": "code",
      "metadata": {
        "id": "L1elVzdcjipT",
        "colab_type": "code",
        "colab": {
          "base_uri": "https://localhost:8080/",
          "height": 85
        },
        "outputId": "850587a2-f27f-4929-eecf-aa6603dff416"
      },
      "source": [
        "from random import choice\n",
        "choices = [\"r\", \"p\", \"s\"]\n",
        "\n",
        "p1 = input(\"enter r, p, or s \")\n",
        "print(p1)\n",
        "p2 = choice(choices)\n",
        "print(p2)\n",
        "\n",
        "\n",
        "if len(p1) == 1 and (\"r\" in p1 or \"p\" in p1 or \"s\" in p1):\n",
        "  if p1 == p2:\n",
        "    print(0)\n",
        "  elif p1 == \"r\":\n",
        "    if p2 == \"s\":\n",
        "      print(1)\n",
        "    else:\n",
        "      print(2)\n",
        "  elif p1 == \"s\":\n",
        "    if p2 == \"r\":\n",
        "      print(2)\n",
        "    else:\n",
        "      print(1)\n",
        "  else:\n",
        "    if p2 == \"r\":\n",
        "      print(1)\n",
        "    else:\n",
        "      print(2)\n",
        "else:\n",
        "  print(-1)"
      ],
      "execution_count": 18,
      "outputs": [
        {
          "output_type": "stream",
          "text": [
            "enter r, p, or s s\n",
            "s\n",
            "s\n",
            "0\n"
          ],
          "name": "stdout"
        }
      ]
    },
    {
      "cell_type": "markdown",
      "metadata": {
        "id": "F_7aaMtoVtpt",
        "colab_type": "text"
      },
      "source": [
        "\n",
        "\n",
        "### P5.PY\n",
        "\n",
        "\n"
      ]
    },
    {
      "cell_type": "code",
      "metadata": {
        "id": "U24EGu3VVtpu",
        "colab_type": "code",
        "colab": {}
      },
      "source": [
        "\"\"\"\n",
        "Play RPS w/Bad Input\n",
        "\"\"\"\n",
        "\n",
        "p1 = None  # can be invalid!\n",
        "p2 = None  # can be invalid!\n",
        "\n",
        "\"\"\"\n",
        "This is the same as the original RPS problem, \n",
        "except that cannot expect the input to be valid. \n",
        "While we *want* `r` or `p` or `s`, there is a possibility \n",
        "that input can be anything like...\n",
        "\n",
        "* `ROCK` (all caps)\n",
        "* `R` (`r` but capitalized)\n",
        "* `PAPrrRR` (incorrectly spelled, upper/lowercased)\n",
        "\n",
        "Implement conditional statements that will sanitize the \n",
        "user input or let user know that input is invalid.\n",
        "\"\"\""
      ],
      "execution_count": 0,
      "outputs": []
    }
  ]
}