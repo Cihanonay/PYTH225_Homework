{
  "nbformat": 4,
  "nbformat_minor": 0,
  "metadata": {
    "colab": {
      "name": "Homework 3 lists_psets.ipynb",
      "provenance": [],
      "collapsed_sections": [
        "wnygsOhDVRof",
        "2XYhGsPjVUx8",
        "0xVs38QYVJAA",
        "Qqtm5kHYVJAg",
        "qYrO5tA-VdxK",
        "X5MSdZzXVJAt"
      ],
      "include_colab_link": true
    },
    "kernelspec": {
      "name": "python3",
      "display_name": "Python 3"
    }
  },
  "cells": [
    {
      "cell_type": "markdown",
      "metadata": {
        "id": "view-in-github",
        "colab_type": "text"
      },
      "source": [
        "<a href=\"https://colab.research.google.com/github/Cihanonay/PYTH225_Homework/blob/master/Homework_3_lists_psets.ipynb\" target=\"_parent\"><img src=\"https://colab.research.google.com/assets/colab-badge.svg\" alt=\"Open In Colab\"/></a>"
      ]
    },
    {
      "cell_type": "markdown",
      "metadata": {
        "id": "Yr_KNJCvVI_l",
        "colab_type": "text"
      },
      "source": [
        "#  LISTS"
      ]
    },
    {
      "cell_type": "markdown",
      "metadata": {
        "id": "wnygsOhDVRof",
        "colab_type": "text"
      },
      "source": [
        "## LIST OPS"
      ]
    },
    {
      "cell_type": "markdown",
      "metadata": {
        "id": "3YuVvl6vVSvP",
        "colab_type": "text"
      },
      "source": [
        "### P1.PY"
      ]
    },
    {
      "cell_type": "code",
      "metadata": {
        "id": "Ir33rYgDVI_m",
        "colab_type": "code",
        "colab": {}
      },
      "source": [
        "\"\"\"\n",
        "Basic List Operations I\n",
        "\"\"\"\n",
        "\n",
        "# Create a list including these five animals - elephant, tiger, otter, orangutan, and penguin.\n",
        "\n",
        "\n",
        "# Print the 4th animal on the list.\n",
        "\n",
        "\n",
        "# Add 'tortoise' to the beginning of the list.\n",
        "\n",
        "\n",
        "# Print the length of the list.\n",
        "\n",
        "\n",
        "# Remove 'orangutan' from the list.\n",
        "\n",
        "\n",
        "# Sort the list alphabetically and print it out.\n"
      ],
      "execution_count": 0,
      "outputs": []
    },
    {
      "cell_type": "code",
      "metadata": {
        "id": "aPAMzTvLghPT",
        "colab_type": "code",
        "colab": {
          "base_uri": "https://localhost:8080/",
          "height": 0
        },
        "outputId": "0bbf1acb-5eee-4f97-a82a-995cb76bb278"
      },
      "source": [
        "animals = ('elephant', 'tiger', 'otter', 'orangutan', 'penguin')\n",
        "print(animals)\n",
        "print(animals[3])\n",
        "animals = ['elephant', 'tiger', 'otter', 'orangutan', 'penguin']\n",
        "animals.insert(0,'tortoise')\n",
        "print(animals)\n",
        "print(f'{len(animals)}')\n",
        "animals=['tortoise', 'elephant', 'tiger', 'otter', 'orangutan', 'penguin']\n",
        "remove_from_animals = animals.pop(4)\n",
        "print(animals)\n",
        "animals = ['tortoise', 'elephant', 'tiger', 'otter', 'penguin']\n",
        "animals.sort()\n",
        "print(animals)"
      ],
      "execution_count": 59,
      "outputs": [
        {
          "output_type": "stream",
          "text": [
            "('elephant', 'tiger', 'otter', 'orangutan', 'penguin')\n",
            "orangutan\n",
            "['tortoise', 'elephant', 'tiger', 'otter', 'orangutan', 'penguin']\n",
            "6\n",
            "['tortoise', 'elephant', 'tiger', 'otter', 'penguin']\n",
            "['elephant', 'otter', 'penguin', 'tiger', 'tortoise']\n"
          ],
          "name": "stdout"
        }
      ]
    },
    {
      "cell_type": "markdown",
      "metadata": {
        "id": "iopPhVNUVI_p",
        "colab_type": "text"
      },
      "source": [
        "\n",
        "\n",
        "### P2.PY\n",
        "\n",
        "\n"
      ]
    },
    {
      "cell_type": "code",
      "metadata": {
        "id": "4kMd_uBjVI_q",
        "colab_type": "code",
        "colab": {}
      },
      "source": [
        "\"\"\"\n",
        "Basic List Operations II\n",
        "\"\"\"\n",
        "\n",
        "# Declare a list with 5 names, and print out the length of that list.\n",
        "names = None\n",
        "\n",
        "# Print the 3rd name on the list\n",
        "\n",
        "\n",
        "\n",
        "# Delete the first name on the list\n",
        "\n",
        "\n",
        "\n",
        "# Re-add the name you deleted to the end of the list\n",
        "\n",
        "\n",
        "\n",
        "# Replace the 2nd name on the list with a new name.\n",
        "\n",
        "\n",
        "\n",
        "# Add 3 new names to the end of the list.\n",
        " "
      ],
      "execution_count": 0,
      "outputs": []
    },
    {
      "cell_type": "code",
      "metadata": {
        "id": "6pisowdXlflk",
        "colab_type": "code",
        "colab": {
          "base_uri": "https://localhost:8080/",
          "height": 0
        },
        "outputId": "cd9849cc-c9de-40f3-c288-c1779102edfa"
      },
      "source": [
        "names = ['david', 'eduardo', 'elizabeth', 'lily', 'tom'] \n",
        "print(names) \n",
        "print(names[2])\n",
        "names=['david', 'eduardo', 'elizabeth', 'lily', 'tom']\n",
        "remove_from_names = names.pop(0)\n",
        "print(names)\n",
        "names = ['eduardo', 'elizabeth', 'lily', 'tom']\n",
        "names.insert(4, 'david')\n",
        "print(names)\n",
        "names[2] = 'isac'\n",
        "print(names)\n",
        "names = ['eduardo', 'elizabeth', 'lily', 'tom', 'david']\n",
        "names.extend((\"jason\", \"andy\", \"jack\"))\n",
        "print(names)\n",
        "\n"
      ],
      "execution_count": 18,
      "outputs": [
        {
          "output_type": "stream",
          "text": [
            "['david', 'eduardo', 'elizabeth', 'lily', 'tom']\n",
            "elizabeth\n",
            "['eduardo', 'elizabeth', 'lily', 'tom']\n",
            "['eduardo', 'elizabeth', 'lily', 'tom', 'david']\n",
            "['eduardo', 'elizabeth', 'isac', 'tom', 'david']\n",
            "['eduardo', 'elizabeth', 'lily', 'tom', 'david', 'jason', 'andy', 'jack']\n"
          ],
          "name": "stdout"
        }
      ]
    },
    {
      "cell_type": "markdown",
      "metadata": {
        "id": "lydOzGvFVI_6",
        "colab_type": "text"
      },
      "source": [
        "\n",
        "\n",
        "### P3.PY\n",
        "\n",
        "\n"
      ]
    },
    {
      "cell_type": "code",
      "metadata": {
        "id": "86gQFKLNVI_7",
        "colab_type": "code",
        "colab": {}
      },
      "source": [
        "\"\"\"\n",
        "Math Operations\n",
        "\"\"\"\n",
        "\n",
        "# Save a list with the numbers `2`, `4`, `6`, and `8` into a variable called `numbers`. Use this variable for all the problems in this PSET.\n",
        "\n",
        "numbers = None\n",
        "\n",
        "# Print the max of `numbers`.\n",
        "\n",
        "\n",
        "# Pop the last element in `numbers` off; re-insert it at index `2` and print the resultant list.\n",
        "\n",
        "\n",
        "\n",
        "# Pop the second number in `numbers` off.\n",
        "\n",
        "\n",
        "\n",
        "# Append `3` to `numbers`.\n",
        "\n",
        "\n",
        "# Print out the average number.\n"
      ],
      "execution_count": 0,
      "outputs": []
    },
    {
      "cell_type": "code",
      "metadata": {
        "id": "5qfcjdx7jNIp",
        "colab_type": "code",
        "colab": {
          "base_uri": "https://localhost:8080/",
          "height": 0
        },
        "outputId": "ebf707e1-ac90-40b9-c9c1-79e288b53809"
      },
      "source": [
        "numbers =('2', '4', '6', '8')\n",
        "print(f'{max(numbers)}') \n",
        "numbers = ['2', '4', '6', '8']\n",
        "remove_the_last_number = numbers.pop(3)\n",
        "print(f'{remove_the_last_number} has left the list.')\n",
        "print(numbers)\n",
        "numbers.insert(2, 8)\n",
        "print(numbers)\n",
        "numbers.append(3)\n",
        "print(numbers)"
      ],
      "execution_count": 85,
      "outputs": [
        {
          "output_type": "stream",
          "text": [
            "8\n",
            "8 has left the list.\n",
            "['2', '4', '6']\n",
            "['2', '4', 8, '6']\n",
            "['2', '4', 8, '6', 3]\n"
          ],
          "name": "stdout"
        }
      ]
    },
    {
      "cell_type": "markdown",
      "metadata": {
        "id": "m40a2IGVVI_-",
        "colab_type": "text"
      },
      "source": [
        "\n",
        "\n",
        "## SORTING\n",
        "\n",
        "\n"
      ]
    },
    {
      "cell_type": "markdown",
      "metadata": {
        "id": "2XYhGsPjVUx8",
        "colab_type": "text"
      },
      "source": [
        "### P1.PY"
      ]
    },
    {
      "cell_type": "code",
      "metadata": {
        "id": "NRi8DF1eVI_-",
        "colab_type": "code",
        "colab": {}
      },
      "source": [
        "\"\"\"\n",
        "Spotify Playlists - Sorting\n",
        "\"\"\"\n",
        "\n",
        "# You work for Spotify and are creating a feature for users to alphabetize their playlists by song title. Below is a list of titles from a sample playlist.\n",
        "\n",
        "playlist_titles = ['Tiny Dancer', 'At Last', 'Fortunate Son', \n",
        "'Hey Jude', 'Isn\\'t She Lovely', 'Just the Way You Are', 'I\\'m Yours',\n",
        "'Vienna', 'Roxanne', 'Dancing in the Moonlight']\n",
        "\n",
        "# Alphabetize these songs and print the result.\n",
        "\n",
        "\n",
        "\n",
        "# Now do the reverse.\n",
        "\n"
      ],
      "execution_count": 0,
      "outputs": []
    },
    {
      "cell_type": "code",
      "metadata": {
        "id": "HAyVvTavNH0j",
        "colab_type": "code",
        "colab": {
          "base_uri": "https://localhost:8080/",
          "height": 0
        },
        "outputId": "1e44c779-4527-4746-8200-d8bc15fa65c3"
      },
      "source": [
        "playlist_titles = ['Tiny Dancer', 'At Last', 'Fortunate Son', \n",
        "'Hey Jude', 'Isn\\'t She Lovely', 'Just the Way You Are', 'I\\'m Yours',\n",
        "'Vienna', 'Roxanne', 'Dancing in the Moonlight']\n",
        "playlist_titles.sort()\n",
        "print(playlist_titles)\n",
        "playlist_titles.sort(reverse = True)\n",
        "print(playlist_titles)"
      ],
      "execution_count": 90,
      "outputs": [
        {
          "output_type": "stream",
          "text": [
            "['At Last', 'Dancing in the Moonlight', 'Fortunate Son', 'Hey Jude', \"I'm Yours\", \"Isn't She Lovely\", 'Just the Way You Are', 'Roxanne', 'Tiny Dancer', 'Vienna']\n",
            "['Vienna', 'Tiny Dancer', 'Roxanne', 'Just the Way You Are', \"Isn't She Lovely\", \"I'm Yours\", 'Hey Jude', 'Fortunate Son', 'Dancing in the Moonlight', 'At Last']\n"
          ],
          "name": "stdout"
        }
      ]
    },
    {
      "cell_type": "markdown",
      "metadata": {
        "id": "0xVs38QYVJAA",
        "colab_type": "text"
      },
      "source": [
        "\n",
        "\n",
        "### P2.PY\n",
        "\n",
        "\n"
      ]
    },
    {
      "cell_type": "code",
      "metadata": {
        "id": "VXtT3BB0VJAB",
        "colab_type": "code",
        "colab": {}
      },
      "source": [
        "\"\"\"\n",
        "Ordering Random Numbers\n",
        "\"\"\"\n",
        "\n",
        "# Create a list of 6 randomly generated numbers called numbers and sort it in descending order.\n"
      ],
      "execution_count": 0,
      "outputs": []
    },
    {
      "cell_type": "code",
      "metadata": {
        "id": "moCGk0jYOZL2",
        "colab_type": "code",
        "colab": {
          "base_uri": "https://localhost:8080/",
          "height": 0
        },
        "outputId": "b7ed5d81-3ca6-4f00-c4c5-2c37528b68a7"
      },
      "source": [
        "numbers = ('3', '5' ,'9', '10', '16', '20')\n",
        "descending = sorted(numbers, reverse = True)\n",
        "print(descending)"
      ],
      "execution_count": 92,
      "outputs": [
        {
          "output_type": "stream",
          "text": [
            "['9', '5', '3', '20', '16', '10']\n"
          ],
          "name": "stdout"
        }
      ]
    },
    {
      "cell_type": "markdown",
      "metadata": {
        "id": "cN7amwMkVJAR",
        "colab_type": "text"
      },
      "source": [
        "## LIST MANIPULATION\n"
      ]
    },
    {
      "cell_type": "markdown",
      "metadata": {
        "id": "ImDqbHx5VY4P",
        "colab_type": "text"
      },
      "source": [
        "### P1.PY"
      ]
    },
    {
      "cell_type": "code",
      "metadata": {
        "id": "z8OOTUg6VJAT",
        "colab_type": "code",
        "colab": {}
      },
      "source": [
        "\"\"\"\n",
        "Phone Numbers\n",
        "\"\"\"\n",
        "\n",
        "# Parse this phone number so that a computer can process\n",
        "# it. (Hint: It can't include any non-numeric\n",
        "# characters.)\n",
        "\n",
        "cell = '1.192.168.0143'"
      ],
      "execution_count": 0,
      "outputs": []
    },
    {
      "cell_type": "code",
      "metadata": {
        "id": "DwA4pJ-ooX1V",
        "colab_type": "code",
        "colab": {
          "base_uri": "https://localhost:8080/",
          "height": 147
        },
        "outputId": "0ffe79e5-4cc8-4eb4-8720-77d76f551389"
      },
      "source": [
        "cell = '1.192.168.0143'\n",
        "\n",
        "temp = cell.split(\".\")\n",
        "tempstring = \"\"\n",
        "for i in range(lenght(temp)):\n",
        "temp = \n",
        "tempstring + temp[i]:\n",
        "\n",
        "print(temp)"
      ],
      "execution_count": 50,
      "outputs": [
        {
          "output_type": "error",
          "ename": "IndentationError",
          "evalue": "ignored",
          "traceback": [
            "\u001b[0;36m  File \u001b[0;32m\"<ipython-input-51-9cac456781a9>\"\u001b[0;36m, line \u001b[0;32m6\u001b[0m\n\u001b[0;31m    temp =\u001b[0m\n\u001b[0m       ^\u001b[0m\n\u001b[0;31mIndentationError\u001b[0m\u001b[0;31m:\u001b[0m expected an indented block\n"
          ]
        },
        {
          "output_type": "stream",
          "text": [
            "ERROR! Session/line number was not unique in database. History logging moved to new session 71\n"
          ],
          "name": "stdout"
        }
      ]
    },
    {
      "cell_type": "markdown",
      "metadata": {
        "id": "X3BMzIHyVJAd",
        "colab_type": "text"
      },
      "source": [
        "\n",
        "\n",
        "### P3.PY\n",
        "\n",
        "\n"
      ]
    },
    {
      "cell_type": "code",
      "metadata": {
        "id": "jz3ccPm3VJAe",
        "colab_type": "code",
        "colab": {}
      },
      "source": [
        "\"\"\"\n",
        "Merge Lists with Duplicates\n",
        "\"\"\"\n",
        "\n",
        "# Use the two lists below to solve this problem. Print out the result from each section as you go along.\n",
        "\n",
        "list1, list2 = [2, 8, 6], [10, 4, 12]\n",
        "\n",
        "\n",
        "# A) Add another instance of each item in list1 to list1 again and assign the results to list3.\n",
        "list3 = None\n",
        "\n",
        "\n",
        "# B) Combine the two given lists and assign them to list4.\n",
        "list4 = None\n",
        "\n",
        "\n",
        "# C) Replace the first 3 items in list 3 with the numbers 13, 16, 9.\n",
        "list3[:2] = None\n",
        "\n",
        "# D) Merge list3 and list4 to create a list containing no duplicates and store this in list5.\n",
        "list5 = None\n",
        "\n",
        "\n",
        "# Take a look at your printed statements to see the evolution of your lists with each step of this problem.\n",
        "\n",
        "\n"
      ],
      "execution_count": 0,
      "outputs": []
    },
    {
      "cell_type": "code",
      "metadata": {
        "id": "m_mkqscMSNY6",
        "colab_type": "code",
        "colab": {
          "base_uri": "https://localhost:8080/",
          "height": 34
        },
        "outputId": "d2de2c22-21df-4692-9ad2-41dba011cae2"
      },
      "source": [
        "list1 = [2, 8, 6] \n",
        "list2 = [10, 4, 12]\n",
        "result = [None]*(len(list1)+len(list2))\n",
        "result[::2] = list1\n",
        "result[1::2] = list2\n",
        "print(list3)\n",
        "\n"
      ],
      "execution_count": 17,
      "outputs": [
        {
          "output_type": "stream",
          "text": [
            "[2, 10, 8, 4, 6, 12]\n"
          ],
          "name": "stdout"
        }
      ]
    },
    {
      "cell_type": "markdown",
      "metadata": {
        "id": "Qqtm5kHYVJAg",
        "colab_type": "text"
      },
      "source": [
        "\n",
        "\n",
        "### P4.PY\n",
        "\n",
        "\n"
      ]
    },
    {
      "cell_type": "code",
      "metadata": {
        "id": "wgF_gvjVVJAh",
        "colab_type": "code",
        "colab": {}
      },
      "source": [
        "\"\"\"\n",
        "Cool Runnings!\n",
        "\"\"\"\n",
        "\n",
        "# Here's a quote from the movie 'Cool Runnings'. :)\n",
        "\n",
        "# Replace the word bobsled with \"YOLO\" and print the resultant list as 4 sentences (i.e. NOT a list), each on a new line.\n",
        "\n"
      ],
      "execution_count": 0,
      "outputs": []
    },
    {
      "cell_type": "code",
      "metadata": {
        "id": "soQfld4bYL9x",
        "colab_type": "code",
        "colab": {
          "base_uri": "https://localhost:8080/",
          "height": 0
        },
        "outputId": "ccea2019-ddfb-4e32-f986-4808074b243a"
      },
      "source": [
        "cool_runnings = [\n",
        "\t'Feel', 'the', 'rhythm.',\n",
        "\t'Feel', 'the', 'rhyme.',\n",
        "\t'Get', 'on', 'up.',\n",
        "\t'It\\'s', 'bobsled', 'time!'\n",
        "]\n",
        "cool_runnings.sort()\n",
        "print(cool_runnings)\n",
        "cool_runnings[4] = 'YOLO'\n",
        "print(cool_runnings)"
      ],
      "execution_count": 30,
      "outputs": [
        {
          "output_type": "stream",
          "text": [
            "['Feel', 'Feel', 'Get', \"It's\", 'bobsled', 'on', 'rhyme.', 'rhythm.', 'the', 'the', 'time!', 'up.']\n",
            "['Feel', 'Feel', 'Get', \"It's\", 'YOLO', 'on', 'rhyme.', 'rhythm.', 'the', 'the', 'time!', 'up.']\n"
          ],
          "name": "stdout"
        }
      ]
    },
    {
      "cell_type": "markdown",
      "metadata": {
        "id": "fyknlYbQVJAj",
        "colab_type": "text"
      },
      "source": [
        "## LIST CHALLENGES\n",
        "\n",
        "\n"
      ]
    },
    {
      "cell_type": "markdown",
      "metadata": {
        "id": "qYrO5tA-VdxK",
        "colab_type": "text"
      },
      "source": [
        "### P1.PY"
      ]
    },
    {
      "cell_type": "code",
      "metadata": {
        "id": "R1ouYtGvVJAq",
        "colab_type": "code",
        "colab": {}
      },
      "source": [
        "\"\"\"\n",
        "CHALLENGE - Extensions\n",
        "\"\"\"\n",
        "\n",
        "# ** Challenge** Add each element of the tuple1 to list1 *individually* and print the result.\n",
        "\n",
        "list1 = [6, 12, 9, 4, 10, 1]\n",
        "tuple1 = [(15,3), (6,2), (1, 8)]\n",
        "\n"
      ],
      "execution_count": 0,
      "outputs": []
    },
    {
      "cell_type": "code",
      "metadata": {
        "id": "8hfnPhrOgY4I",
        "colab_type": "code",
        "colab": {
          "base_uri": "https://localhost:8080/",
          "height": 0
        },
        "outputId": "fdf2c196-5d3d-4caf-ff98-247d793c2d2c"
      },
      "source": [
        "list1 = [6, 12, 9, 4, 10, 1]\n",
        "tuple1 = [(15,3), (6,2), (1, 8)]\n",
        "\n",
        "list1 +(tuple1)\n"
      ],
      "execution_count": 29,
      "outputs": [
        {
          "output_type": "execute_result",
          "data": {
            "text/plain": [
              "[6, 12, 9, 4, 10, 1, (15, 3), (6, 2), (1, 8)]"
            ]
          },
          "metadata": {
            "tags": []
          },
          "execution_count": 29
        }
      ]
    },
    {
      "cell_type": "markdown",
      "metadata": {
        "id": "X5MSdZzXVJAt",
        "colab_type": "text"
      },
      "source": [
        "\n",
        "\n",
        "### P2.PY\n",
        "\n",
        "\n"
      ]
    },
    {
      "cell_type": "code",
      "metadata": {
        "id": "xyu2RSZcVJAt",
        "colab_type": "code",
        "colab": {}
      },
      "source": [
        "\"\"\"\n",
        "CHALLENGE - Core Statistics Calculations\n",
        "\"\"\"\n",
        "\n",
        "# Given the sample below, find the mean, median, mode, variance, and standard deviation of this sample. Print them out separately, but in the same format as before.\n",
        "\t# my_median = \n",
        "\t# my_mode = \n",
        "\t# my_variance = \n",
        "\t# my_sd = \n",
        "\n",
        "sample = [6, 19, 20, 12, 6, 24, 8, 30, 28, 25]\n",
        "\n",
        "\n",
        "# Once you finish, print out each value **on its own line** in this format: \"median = \" etc.\n",
        "\n",
        "\n",
        "\n",
        "# Compute and print various statistics\n"
      ],
      "execution_count": 0,
      "outputs": []
    },
    {
      "cell_type": "code",
      "metadata": {
        "id": "f40u3D8ZXXpR",
        "colab_type": "code",
        "colab": {
          "base_uri": "https://localhost:8080/",
          "height": 0
        },
        "outputId": "cc56dddb-e5d5-4d67-a2c0-ef0d90574db5"
      },
      "source": [
        "\n",
        "sample = [6, 19, 20, 12, 6, 24, 8, 30, 28, 25]\n",
        "import scipy.stats\n",
        "import numpy as np\n",
        "import statistics\n",
        "mean1 = statistics.mean(sample)\n",
        "print(mean1)\n",
        "median1 = statistics.median(sample)\n",
        "print(median1)\n",
        "mode1 = statistics.mode(sample)\n",
        "print(mode1)\n",
        "variance1 = statistics.variance(sample)\n",
        "print(variance1)\n",
        "print('Standard Deviation:', np.std(sample))\n",
        "\n",
        "\n"
      ],
      "execution_count": 21,
      "outputs": [
        {
          "output_type": "stream",
          "text": [
            "17.8\n",
            "19.5\n",
            "6\n",
            "84.17777777777778\n",
            "Standard Deviation: 8.704022058795578\n"
          ],
          "name": "stdout"
        }
      ]
    }
  ]
}